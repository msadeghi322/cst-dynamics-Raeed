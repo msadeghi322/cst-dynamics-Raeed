{
 "cells": [
  {
   "cell_type": "code",
   "execution_count": 1,
   "metadata": {},
   "outputs": [],
   "source": [
    "from lfads_tf2.utils import load_data, load_posterior_averages\n",
    "import src.data\n",
    "import src.lfads_helpers\n",
    "import src.util\n",
    "import pyaldata\n",
    "import yaml\n",
    "from sklearn.decomposition import PCA\n",
    "import matplotlib.pyplot as plt\n",
    "import k3d\n",
    "import numpy as np\n",
    "from src.models import SSA\n",
    "import seaborn as sns\n",
    "\n",
    "sns.set_context('talk')\n",
    "\n",
    "%load_ext autoreload\n",
    "%autoreload 2"
   ]
  },
  {
   "cell_type": "code",
   "execution_count": 2,
   "metadata": {},
   "outputs": [
    {
     "name": "stderr",
     "output_type": "stream",
     "text": [
      "/home/raeed/miniconda3/envs/autolfads-tf2/lib/python3.7/site-packages/ipykernel_launcher.py:16: UserWarning: Dropping the trials with the following IDs because of invalid time indexing. For more information, try warn_per_trial=True\n",
      "\n",
      "        [ 67 182 219 220 255 312 339 522]\n",
      "  app.launch_new_instance()\n"
     ]
    }
   ],
   "source": [
    "with open('../params.yaml', 'r') as params_file:\n",
    "    full_params = yaml.safe_load(params_file)\n",
    "    lfads_params = full_params['lfads_prep']\n",
    "    analysis_params = full_params['analysis']\n",
    "\n",
    "trial_data = src.data.load_clean_data('../data/trial_data/Earl_20190716_COCST_TD.mat')\n",
    "td_cst = src.lfads_helpers.prep_data_with_lfads(trial_data,'CST', lfads_params,analysis_params)\n",
    "\n",
    "start_time = -1.0\n",
    "end_time = 5.0\n",
    "td_cst = pyaldata.restrict_to_interval(\n",
    "    td_cst,\n",
    "    start_point_name='idx_goCueTime',\n",
    "    rel_start=int(start_time/td_cst.loc[td_cst.index[0],'bin_size']),\n",
    "    rel_end=int(end_time/td_cst.loc[td_cst.index[0],'bin_size']),\n",
    "    reset_index=False\n",
    ")"
   ]
  },
  {
   "cell_type": "code",
   "execution_count": 5,
   "metadata": {},
   "outputs": [
    {
     "data": {
      "application/vnd.jupyter.widget-view+json": {
       "model_id": "2d27f4de233c456c946b70cdbb60c8e5",
       "version_major": 2,
       "version_minor": 0
      },
      "text/plain": [
       "Output()"
      ]
     },
     "metadata": {},
     "output_type": "display_data"
    }
   ],
   "source": [
    "# fig,ax = plt.subplots()\n",
    "trace_plot = k3d.plot(name='CST smoothed neural traces')\n",
    "max_abs_hand_vel = np.percentile(np.abs(np.row_stack(td_cst['hand_vel'])[:,0]),95)\n",
    "# plot traces\n",
    "for _,trial in td_cst.sample(n=10).iterrows():\n",
    "    neural_trace = trial['M1_pca']\n",
    "    # trace_plot+=k3d.line(neural_trace[:,0:3].astype(np.float32),shader='mesh',width=0.2,attribute=trial['hand_vel'][:,0],color_map=k3d.matplotlib_color_maps.PiYG)\n",
    "    trace_plot+=k3d.line(\n",
    "        neural_trace[:,0:3].astype(np.float32),\n",
    "        shader='mesh',\n",
    "        width=0.25,\n",
    "        attribute=trial['hand_vel'][:,0],\n",
    "        color_map=k3d.paraview_color_maps.Erdc_divHi_purpleGreen,\n",
    "        color_range=[-max_abs_hand_vel,max_abs_hand_vel],\n",
    "    )\n",
    "\n",
    "# trace_plot+=k3d.line(td_cst['M1_pca'].mean()[:,0:3].astype(np.float32),shader='mesh',width=1,color=0)\n",
    "\n",
    "trace_plot.display()\n"
   ]
  },
  {
   "cell_type": "code",
   "execution_count": 4,
   "metadata": {},
   "outputs": [
    {
     "data": {
      "application/vnd.jupyter.widget-view+json": {
       "model_id": "127e1973d639445d933f956659fa73b0",
       "version_major": 2,
       "version_minor": 0
      },
      "text/plain": [
       "Output()"
      ]
     },
     "metadata": {},
     "output_type": "display_data"
    }
   ],
   "source": [
    "# fig,ax = plt.subplots()\n",
    "trace_plot = k3d.plot(name='CST LFADS neural traces')\n",
    "max_abs_hand_vel = np.percentile(np.abs(np.row_stack(td_cst['hand_vel'])[:,0]),95)\n",
    "# plot traces\n",
    "for _,trial in td_cst.sample(n=10).iterrows():\n",
    "    neural_trace = trial['lfads_pca']\n",
    "    trace_plot+=k3d.line(\n",
    "        neural_trace[:,0:3].astype(np.float32),\n",
    "        shader='mesh',\n",
    "        width=0.25,\n",
    "        attribute=trial['hand_vel'][:,0],\n",
    "        color_map=k3d.paraview_color_maps.Erdc_divHi_purpleGreen,\n",
    "        color_range=[-max_abs_hand_vel,max_abs_hand_vel],\n",
    "    )\n",
    "\n",
    "# trace_plot+=k3d.line(td_cst['lfads_pca'].mean()[:,0:3].astype(np.float32),shader='mesh',width=1,color=0)\n",
    "\n",
    "trace_plot.display()\n",
    "\n"
   ]
  },
  {
   "cell_type": "code",
   "execution_count": null,
   "metadata": {},
   "outputs": [],
   "source": [
    "td_cst = src.data.add_trial_time(td_cst,ref_event='idx_goCueTime')\n",
    "trial = td_cst.iloc[5,:]\n",
    "num_dims = 10\n",
    "\n",
    "plt.figure(figsize=(10,10))\n",
    "for i in range(num_dims):\n",
    "    \n",
    "    # Plot SSA results\n",
    "    plt.subplot(num_dims,2,2*i+1)\n",
    "    plt.plot(trial['trialtime'][[0,-1]],[0,0],color='k')\n",
    "    plt.plot(trial['trialtime'],trial['M1_pca'][:,i])\n",
    "    \n",
    "#     plt.ylim([-1.1, 1.1])\n",
    "    plt.yticks([])    \n",
    "    if i<num_dims-1:\n",
    "        plt.xticks([])\n",
    "    else:\n",
    "        plt.xlabel('Time')\n",
    "\n",
    "    # Plot PCA results\n",
    "    plt.subplot(num_dims,2,2*i+2)\n",
    "    plt.plot(trial['trialtime'][[0,-1]],[0,0],color='k')\n",
    "    plt.plot(trial['trialtime'],trial['lfads_pca'][:,i])\n",
    "    \n",
    "#     plt.ylim([-1.1, 1.1])\n",
    "    plt.yticks([])\n",
    "    if i<num_dims-1:\n",
    "        plt.xticks([])\n",
    "    else:\n",
    "        plt.xlabel('Time')\n",
    "\n",
    "#Titles\n",
    "plt.subplot(num_dims,2,1)\n",
    "plt.title('Smoothed PCA')\n",
    "\n",
    "plt.subplot(num_dims,2,2)\n",
    "plt.title('LFADS PCA')\n"
   ]
  },
  {
   "cell_type": "code",
   "execution_count": null,
   "metadata": {},
   "outputs": [],
   "source": [
    "fig,axs = plt.subplots(4,1,figsize=(15,7),sharex=True)\n",
    "trial = td_cst.sample(n=1).squeeze()\n",
    "\n",
    "for plotnum,ax in enumerate(axs):\n",
    "    ax.plot(trial['lfads_gen_inputs'][:,plotnum])\n",
    "    ax.plot([0,600],[0,0],color='k')\n",
    "    ax.plot(trial['idx_goCueTime']*np.ones((2,)),[-1,1],'k--')"
   ]
  },
  {
   "cell_type": "code",
   "execution_count": null,
   "metadata": {},
   "outputs": [],
   "source": [
    "num_dims = 10\n",
    "M1_ssa_model = SSA(R=num_dims,n_epochs=3000,lr=0.01)\n",
    "td_cst = pyaldata.dim_reduce(td_cst,M1_ssa_model,'M1_rates','M1_ssa')\n",
    "\n",
    "lfads_ssa_model = SSA(R=num_dims,n_epochs=3000,lr=0.01)\n",
    "td_cst = pyaldata.dim_reduce(td_cst,lfads_ssa_model,'lfads_rates','lfads_ssa')\n"
   ]
  },
  {
   "cell_type": "code",
   "execution_count": null,
   "metadata": {},
   "outputs": [],
   "source": [
    "fig, axs = plt.subplots(2,1,sharex=True)\n",
    "axs[0].plot(M1_ssa_model.losses)\n",
    "axs[0].set_ylabel('M1 rates SSA losses')\n",
    "axs[1].plot(lfads_ssa_model.losses)\n",
    "axs[1].set_ylabel('LFADS rates SSA losses')\n",
    "axs[1].set_xlabel('Training Epoch')\n"
   ]
  },
  {
   "cell_type": "code",
   "execution_count": null,
   "metadata": {},
   "outputs": [],
   "source": [
    "td_cst = src.data.add_trial_time(td_cst,ref_event='idx_goCueTime')\n",
    "trial = td_cst.iloc[5,:]\n",
    "\n",
    "plt.figure(figsize=(10,5))\n",
    "for i in range(num_dims):\n",
    "    \n",
    "    # Plot SSA results\n",
    "    plt.subplot(num_dims,2,2*i+1)\n",
    "    plt.plot(trial['trialtime'][[0,-1]],[0,0],color='k')\n",
    "    plt.plot(trial['trialtime'],trial['lfads_ssa'][:,i])\n",
    "    \n",
    "#     plt.ylim([-1.1, 1.1])\n",
    "    plt.yticks([])    \n",
    "    if i<num_dims-1:\n",
    "        plt.xticks([])\n",
    "    else:\n",
    "        plt.xlabel('Time')\n",
    "\n",
    "    # Plot PCA results\n",
    "    plt.subplot(num_dims,2,2*i+2)\n",
    "    plt.plot(trial['trialtime'][[0,-1]],[0,0],color='k')\n",
    "    plt.plot(trial['trialtime'],trial['lfads_pca'][:,i])\n",
    "    \n",
    "#     plt.ylim([-1.1, 1.1])\n",
    "    plt.yticks([])\n",
    "    if i<num_dims-1:\n",
    "        plt.xticks([])\n",
    "    else:\n",
    "        plt.xlabel('Time')\n",
    "\n",
    "#Titles\n",
    "plt.subplot(num_dims,2,1)\n",
    "plt.title('SSA LowD Projections')\n",
    "\n",
    "plt.subplot(num_dims,2,2)\n",
    "plt.title('PCA LowD Projections')\n"
   ]
  },
  {
   "cell_type": "code",
   "execution_count": null,
   "metadata": {},
   "outputs": [],
   "source": [
    "from ipywidgets import interact\n",
    "# plot out SSA projections and hand/cursor movement\n",
    "td_cst = src.data.add_trial_time(td_cst,ref_event='idx_goCueTime')\n",
    "# trial = td_cst.sample(n=1).squeeze()\n",
    "\n",
    "@interact(trial_id = list(td_cst['trial_id']), signal = ['lfads_ssa','lfads_gen_inputs'])\n",
    "def plot_trial_ssa(trial_id,signal):\n",
    "    trial = td_cst.loc[td_cst['trial_id']==trial_id,:].squeeze()\n",
    "    num_dims = trial[signal].shape[1]\n",
    "    fig,axs = plt.subplots(num_dims+1,1,figsize=(5,10),sharex=True)\n",
    "    for i,ax in enumerate(axs):\n",
    "        # ax.clear() \n",
    "        if i<num_dims:\n",
    "            # Plot SSA results\n",
    "            ax.plot(trial['trialtime'][[0,-1]],[0,0],color='k')\n",
    "            ax.plot(trial['trialtime'],trial[signal][:,i])\n",
    "            ax.set_yticks([])\n",
    "            # ax.set_ylim([-1,1])\n",
    "            ax.set_ylabel('{}'.format(i))\n",
    "        else:\n",
    "            ax.plot(trial['trialtime'][[0,-1]],[0,0],color='k')\n",
    "            ax.plot(trial['trialtime'],trial['rel_hand_pos'][:,0],'r')\n",
    "            ax.plot(trial['trialtime'],trial['rel_cursor_pos'][:,0],'b')\n",
    "            ax.set_yticks([])\n",
    "            ax.set_xlabel('Time')\n",
    "\n",
    "        ax.plot([0,0],ax.get_ylim(),color='k',linestyle='--')\n",
    "\n",
    "    sns.despine(fig=fig,left=True,bottom=True,trim=True)\n",
    "    \n",
    "#     plt.ylim([-1.1, 1.1])\n",
    "\n",
    "#Titles\n",
    "# plt.subplot(num_dims,2,1)\n",
    "# plt.title('SSA LowD Projections')\n",
    "# \n",
    "# plt.subplot(num_dims,2,2)\n",
    "# plt.title('PCA LowD Projections')\n"
   ]
  },
  {
   "cell_type": "code",
   "execution_count": null,
   "metadata": {},
   "outputs": [],
   "source": [
    "lfads_ssa_model.save_model_to_file('../results/ssa/Earl_20190716_CST_lfads_ssa_model.pt')"
   ]
  }
 ],
 "metadata": {
  "interpreter": {
   "hash": "97029198e736bdfba6e2414e97cc8ca894d03f4f99397ce575cd6706bf41629d"
  },
  "kernelspec": {
   "display_name": "Python 3.7.13 ('autolfads-tf2')",
   "language": "python",
   "name": "python3"
  },
  "language_info": {
   "codemirror_mode": {
    "name": "ipython",
    "version": 3
   },
   "file_extension": ".py",
   "mimetype": "text/x-python",
   "name": "python",
   "nbconvert_exporter": "python",
   "pygments_lexer": "ipython3",
   "version": "3.7.13"
  },
  "orig_nbformat": 4
 },
 "nbformat": 4,
 "nbformat_minor": 2
}

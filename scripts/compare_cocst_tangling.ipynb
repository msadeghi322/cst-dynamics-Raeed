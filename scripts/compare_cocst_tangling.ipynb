{
 "cells": [
  {
   "cell_type": "code",
   "execution_count": 1,
   "metadata": {},
   "outputs": [],
   "source": [
    "import src.data\n",
    "import src.lfads_helpers\n",
    "import src.util\n",
    "import pyaldata\n",
    "import yaml\n",
    "import matplotlib.pyplot as plt\n",
    "import numpy as np\n",
    "from src.models import SSA\n",
    "import seaborn as sns\n",
    "from scipy.spatial.distance import pdist, squareform\n",
    "from scipy.spatial import KDTree\n",
    "\n",
    "sns.set_context('talk')\n",
    "\n",
    "%load_ext autoreload\n",
    "%autoreload 2"
   ]
  },
  {
   "cell_type": "code",
   "execution_count": 2,
   "metadata": {},
   "outputs": [
    {
     "name": "stderr",
     "output_type": "stream",
     "text": [
      "/home/raeed/miniconda3/envs/autolfads-tf2/lib/python3.7/site-packages/ipykernel_launcher.py:27: UserWarning: Dropping the trials with the following IDs because of invalid time indexing. For more information, try warn_per_trial=True\n",
      "\n",
      "        [  7   8  18  19  22  24  25  33  34  36  56  62  66  86  92  94  95 103\n",
      " 110 112 115 120 123 131 137 139 146 157 159 161 162 165 173 181 187 200\n",
      " 218 222 224 225 229 230 237 239 244 249 254 261 266 269 271 281 286 304\n",
      " 306 308 309 316 321 334 338 342 344 347 351 352 355 357 360 361 366 369\n",
      " 370 371 373 376 378 381 382 384 386 388 393 394 399 403 404 405 408 409\n",
      " 411 413 416 420 422 423 424 426 427 428 429 431 435 436 437 446 447 452\n",
      " 454 456 458 459 460 461 462 464 469 472 476 477 481 488 489 490 491 492\n",
      " 494 500 508 509 510 512 513 516 519 534 535 536]\n",
      "/home/raeed/miniconda3/envs/autolfads-tf2/lib/python3.7/site-packages/ipykernel_launcher.py:28: UserWarning: Dropping the trials with the following IDs because of invalid time indexing. For more information, try warn_per_trial=True\n",
      "\n",
      "        [ 67 182 219 220 255 312 339 522]\n"
     ]
    }
   ],
   "source": [
    "with open('../params.yaml', 'r') as params_file:\n",
    "    full_params = yaml.safe_load(params_file)\n",
    "    lfads_params = full_params['lfads_prep']\n",
    "    analysis_params = full_params['analysis']\n",
    "\n",
    "trial_data = src.data.load_clean_data('../data/trial_data/Earl_20190716_COCST_TD.mat')\n",
    "td_co = src.lfads_helpers.prep_data_with_lfads(trial_data, 'CO', lfads_params)\n",
    "td_cst = src.lfads_helpers.prep_data_with_lfads(trial_data,'CST', lfads_params)\n",
    "\n",
    "# rebin at larger bin size\n",
    "td_co = pyaldata.combine_time_bins(td_co, n_bins=int(analysis_params['bin_size']/td_co['bin_size'].values[0]))\n",
    "td_cst = pyaldata.combine_time_bins(td_cst, n_bins=int(analysis_params['bin_size']/td_cst['bin_size'].values[0]))\n",
    "\n",
    "td_co = pyaldata.add_gradient(td_co,'lfads_pca',normalize=True)\n",
    "td_cst = pyaldata.add_gradient(td_cst,'lfads_pca',normalize=True)\n",
    "\n",
    "co_epoch_fun = src.util.generate_realtime_epoch_fun(\n",
    "    'idx_goCueTime',\n",
    "    rel_start_time=-1.0,\n",
    "    rel_end_time=0.5,\n",
    ")\n",
    "cst_epoch_fun = src.util.generate_realtime_epoch_fun(\n",
    "    'idx_goCueTime',\n",
    "    rel_start_time=-1.0,\n",
    "    rel_end_time=5.0,\n",
    ")\n",
    "td_co = pyaldata.restrict_to_interval(td_co,epoch_fun=co_epoch_fun)\n",
    "td_cst = pyaldata.restrict_to_interval(td_cst,epoch_fun=cst_epoch_fun)"
   ]
  },
  {
   "cell_type": "code",
   "execution_count": 3,
   "metadata": {},
   "outputs": [],
   "source": [
    "def calc_neural_tangling(x,dx,num_neighbors=None,const_norm=True,take_max=False):\n",
    "    norm_adjust = 1e-6 if const_norm else 0.1*sum(x.var())\n",
    "    \n",
    "    if num_neighbors is None:\n",
    "        full_tang = pdist(dx,metric='sqeuclidean')/(pdist(x,metric='sqeuclidean')+norm_adjust)\n",
    "        q = squareform(full_tang).max(axis=1) if take_max else np.percentile(squareform(full_tang),99,axis=1)\n",
    "    else:\n",
    "        raise NotImplementedError\n",
    "\n",
    "    return q\n"
   ]
  },
  {
   "cell_type": "code",
   "execution_count": 4,
   "metadata": {},
   "outputs": [],
   "source": [
    "td_co = src.data.add_trial_time(td_co,ref_event='idx_goCueTime')\n",
    "df_co = src.util.crystallize_dataframe(td_co,sigs=['trialtime','lfads_pca','dlfads_pca','lfads_inputs','rel_hand_pos','hand_vel'])\n",
    "df_co['Tangling'] = calc_neural_tangling(df_co['lfads_pca'],df_co['dlfads_pca'])\n",
    "df_co['LFADS input norm'] = np.linalg.norm(df_co['lfads_inputs'],axis=1)"
   ]
  },
  {
   "cell_type": "code",
   "execution_count": 8,
   "metadata": {},
   "outputs": [
    {
     "data": {
      "application/vnd.jupyter.widget-view+json": {
       "model_id": "b9435764f7144b97becd41427b8257e8",
       "version_major": 2,
       "version_minor": 0
      },
      "text/plain": [
       "interactive(children=(Dropdown(description='co_trial_id', options=(11, 16, 17, 23, 40, 45, 47, 58, 59, 65, 69,…"
      ]
     },
     "metadata": {},
     "output_type": "display_data"
    }
   ],
   "source": [
    "from ipywidgets import interact\n",
    "@interact(co_trial_id=list(df_co.groupby('trial_id').groups.keys()))\n",
    "def plot_trials(co_trial_id):\n",
    "    fig,axs = plt.subplots(3,1,figsize=(8,8),sharex=True)\n",
    "    trial = df_co.groupby('trial_id').get_group(co_trial_id)\n",
    "    sns.lineplot(\n",
    "        ax=axs[0],\n",
    "        data=trial,\n",
    "        x=('trialtime',0),\n",
    "        y='Tangling',\n",
    "    )\n",
    "    sns.lineplot(\n",
    "        ax=axs[1],\n",
    "        data=trial,\n",
    "        x=('trialtime',0),\n",
    "        y='LFADS input norm',\n",
    "    )\n",
    "    sns.lineplot(\n",
    "        ax=axs[2],\n",
    "        data=trial,\n",
    "        x=('trialtime',0),\n",
    "        y=('rel_hand_pos',0),\n",
    "    )\n",
    "    for ax in axs:\n",
    "        # TODO: make the go cue dash depend on the chosen bin size\n",
    "        ax.plot([0,0],ax.get_ylim(),'k--')\n",
    "    sns.despine(fig=fig,trim=True)"
   ]
  },
  {
   "cell_type": "code",
   "execution_count": 16,
   "metadata": {},
   "outputs": [],
   "source": [
    "td_cst = src.data.add_trial_time(td_cst,ref_event='idx_goCueTime')\n",
    "df_cst = src.util.crystallize_dataframe(td_cst,sigs=['trialtime','lfads_pca','dlfads_pca','lfads_inputs','rel_hand_pos','hand_vel','rel_cursor_pos','cursor_vel'])\n",
    "df_cst['LFADS input norm'] = np.linalg.norm(df_cst['lfads_inputs'],axis=1)"
   ]
  },
  {
   "cell_type": "code",
   "execution_count": 19,
   "metadata": {},
   "outputs": [
    {
     "data": {
      "application/vnd.jupyter.widget-view+json": {
       "model_id": "105bca4fced4408788f9ec950771ec3e",
       "version_major": 2,
       "version_minor": 0
      },
      "text/plain": [
       "interactive(children=(Dropdown(description='cst_trial_id', options=(1, 2, 3, 4, 5, 6, 9, 10, 12, 13, 14, 15, 2…"
      ]
     },
     "metadata": {},
     "output_type": "display_data"
    },
    {
     "ename": "",
     "evalue": "",
     "output_type": "error",
     "traceback": [
      "\u001b[1;31mThe Kernel crashed while executing code in the the current cell or a previous cell. Please review the code in the cell(s) to identify a possible cause of the failure. Click <a href='https://aka.ms/vscodeJupyterKernelCrash'>here</a> for more info. View Jupyter <a href='command:jupyter.viewOutput'>log</a> for further details."
     ]
    }
   ],
   "source": [
    "@interact(cst_trial_id=list(df_cst.groupby('trial_id').groups.keys()))\n",
    "def plot_trials(cst_trial_id):\n",
    "    fig,axs = plt.subplots(3,1,figsize=(8,8),sharex=True)\n",
    "    trial = df_cst.groupby('trial_id').get_group(cst_trial_id)\n",
    "    sns.lineplot(\n",
    "        ax=axs[1],\n",
    "        data=trial,\n",
    "        x=('trialtime',0),\n",
    "        y='LFADS input norm',\n",
    "    )\n",
    "    axs[1].set_ylim(0,100)\n",
    "    sns.lineplot(\n",
    "        ax=axs[2],\n",
    "        data=trial,\n",
    "        x=('trialtime',0),\n",
    "        y=('rel_hand_pos',0),\n",
    "        color='r',\n",
    "    )\n",
    "    sns.lineplot(\n",
    "        ax=axs[2],\n",
    "        data=trial,\n",
    "        x=('trialtime',0),\n",
    "        y=('rel_cursor_pos',0),\n",
    "        color='b',\n",
    "    )\n",
    "    axs[2].set_ylabel('Hand/cursor position')\n",
    "    for ax in axs:\n",
    "        # TODO: make the go cue dash depend on the chosen bin size\n",
    "        ax.plot([0,0],ax.get_ylim(),'k--')\n",
    "    sns.despine(fig=fig,trim=True)"
   ]
  }
 ],
 "metadata": {
  "kernelspec": {
   "display_name": "Python 3.7.13 ('autolfads-tf2')",
   "language": "python",
   "name": "python3"
  },
  "language_info": {
   "codemirror_mode": {
    "name": "ipython",
    "version": 3
   },
   "file_extension": ".py",
   "mimetype": "text/x-python",
   "name": "python",
   "nbconvert_exporter": "python",
   "pygments_lexer": "ipython3",
   "version": "3.7.13"
  },
  "orig_nbformat": 4,
  "vscode": {
   "interpreter": {
    "hash": "97029198e736bdfba6e2414e97cc8ca894d03f4f99397ce575cd6706bf41629d"
   }
  }
 },
 "nbformat": 4,
 "nbformat_minor": 2
}

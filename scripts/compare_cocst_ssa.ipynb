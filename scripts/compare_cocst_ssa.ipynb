{
 "cells": [
  {
   "cell_type": "code",
   "execution_count": 1,
   "metadata": {},
   "outputs": [],
   "source": [
    "import src.data\n",
    "import src.lfads_helpers\n",
    "import src.util\n",
    "import pyaldata\n",
    "import yaml\n",
    "import matplotlib.pyplot as plt\n",
    "import numpy as np\n",
    "from src.models import SSA\n",
    "import seaborn as sns\n",
    "import k3d\n",
    "from sklearn.decomposition import PCA\n",
    "\n",
    "sns.set_context('talk')\n",
    "\n",
    "%load_ext autoreload\n",
    "%autoreload 2"
   ]
  },
  {
   "cell_type": "code",
   "execution_count": 4,
   "metadata": {},
   "outputs": [
    {
     "name": "stderr",
     "output_type": "stream",
     "text": [
      "/home/raeed/miniconda3/envs/autolfads-tf2/lib/python3.7/site-packages/ipykernel_launcher.py:26: UserWarning: Dropping the trials with the following IDs because of invalid time indexing. For more information, try warn_per_trial=True\n",
      "\n",
      "        [  7   8  11  18  19  22  24  25  33  34  36  56  62  66  86  92  94  95\n",
      " 103 107 110 112 115 120 123 131 135 137 139 146 157 159 161 162 165 173\n",
      " 179 181 187 200 218 222 224 225 229 230 237 239 241 244 249 254 261 266\n",
      " 269 271 276 281 286 304 306 308 309 316 321 334 338 342 344 347 351 352\n",
      " 355 357 360 361 363 366 369 370 371 373 376 378 379 381 382 384 386 388\n",
      " 393 394 396 399 403 404 405 408 409 411 413 416 420 422 423 424 426 427\n",
      " 428 429 431 435 436 437 445 446 447 452 454 456 458 459 460 461 462 464\n",
      " 469 470 472 476 477 481 483 484 488 489 490 491 492 494 500 502 508 509\n",
      " 510 512 513 516 519 534 535 536]\n",
      "/home/raeed/miniconda3/envs/autolfads-tf2/lib/python3.7/site-packages/ipykernel_launcher.py:27: UserWarning: Dropping the trials with the following IDs because of invalid time indexing. For more information, try warn_per_trial=True\n",
      "\n",
      "        [ 67 182 219 220 255 312 339 522]\n"
     ]
    }
   ],
   "source": [
    "with open('../params.yaml', 'r') as params_file:\n",
    "    params = yaml.safe_load(params_file)\n",
    "    lfads_params = params['lfads_prep']\n",
    "    analysis_params = params['analysis']\n",
    "\n",
    "\n",
    "trial_data = src.data.load_clean_data('../data/trial_data/Earl_20190716_COCST_TD.mat')\n",
    "td_co = src.lfads_helpers.prep_data_with_lfads(trial_data, 'CO', lfads_params)\n",
    "td_cst = src.lfads_helpers.prep_data_with_lfads(trial_data,'CST', lfads_params)\n",
    "\n",
    "joint_pca_model = PCA(n_components=analysis_params['num_dims'])\n",
    "joint_pca_model.fit(np.row_stack([np.row_stack(td_cst['lfads_rates']),np.row_stack(td_co['lfads_rates'])]))\n",
    "td_co['lfads_joint_pca'] = [joint_pca_model.transform(sig) for sig in td_co['lfads_rates']]\n",
    "td_cst['lfads_joint_pca'] = [joint_pca_model.transform(sig) for sig in td_cst['lfads_rates']]\n",
    "\n",
    "co_epoch_fun = src.util.generate_realtime_epoch_fun(\n",
    "    'idx_goCueTime',\n",
    "    rel_start_time=-1.0,\n",
    "    rel_end_time=0.5,\n",
    ")\n",
    "cst_epoch_fun = src.util.generate_realtime_epoch_fun(\n",
    "    'idx_goCueTime',\n",
    "    rel_start_time=-1.0,\n",
    "    rel_end_time=5.0,\n",
    ")\n",
    "td_co = pyaldata.restrict_to_interval(td_co,epoch_fun=co_epoch_fun)\n",
    "td_cst = pyaldata.restrict_to_interval(td_cst,epoch_fun=cst_epoch_fun)\n"
   ]
  },
  {
   "cell_type": "code",
   "execution_count": 9,
   "metadata": {},
   "outputs": [
    {
     "data": {
      "application/vnd.jupyter.widget-view+json": {
       "model_id": "6350036c14ab4c0eb4cd66074a91ad2f",
       "version_major": 2,
       "version_minor": 0
      },
      "text/plain": [
       "Output()"
      ]
     },
     "metadata": {},
     "output_type": "display_data"
    }
   ],
   "source": [
    "\n",
    "target_dirs = td_co['tgtDir'].unique()\n",
    "dir_colors = plt.get_cmap('Dark2',8)\n",
    "# fig,ax = plt.subplots()\n",
    "trace_plot = k3d.plot(name='Neural Traces')\n",
    "for dirnum,target_dir in enumerate(target_dirs):\n",
    "    # plot traces\n",
    "    color_val = int(255*dir_colors(dirnum)[0]) << 16 | int(255*dir_colors(dirnum)[1]) << 8 | int(255*dir_colors(dirnum)[2])\n",
    "    td_co_dir = td_co.loc[np.isclose(td_co['tgtDir'],target_dir)]\n",
    "    for _,trial in td_co_dir.sample(n=25).iterrows():\n",
    "        neural_trace = trial['lfads_joint_pca']\n",
    "        #trace_plot+=k3d.line(neural_trace[:,0:3].astype(np.float32),shader='mesh',width=0.2,color=color_val)\n",
    "        trace_plot+=k3d.line(neural_trace[:,0:3].astype(np.float32),shader='mesh',width=0.2,attribute=trial['hand_vel'][:,0],color_map=k3d.matplotlib_color_maps.PiYG)\n",
    "    \n",
    "    #trace_plot+=k3d.line(td_co_dir['lfads_joint_pca'].mean()[:,0:3].astype(np.float32),shader='mesh',width=1,color=color_val)\n",
    "\n",
    "# fig,ax = plt.subplots()\n",
    "# trace_plot = k3d.plot(name='Neural Traces')\n",
    "# plot traces\n",
    "for _,trial in td_cst.sample(n=10).iterrows():\n",
    "    neural_trace = trial['lfads_joint_pca']\n",
    "    trace_plot+=k3d.line(neural_trace[:,0:3].astype(np.float32),shader='mesh',width=0.2,attribute=trial['hand_vel'][:,0],color_map=k3d.matplotlib_color_maps.PiYG)\n",
    "\n",
    "# trace_plot+=k3d.line(td_cst['M1_pca'].mean()[:,0:3].astype(np.float32),shader='mesh',width=1,color=0)\n",
    "\n",
    "trace_plot.display()"
   ]
  },
  {
   "cell_type": "code",
   "execution_count": null,
   "metadata": {},
   "outputs": [],
   "source": [
    "# load SSA model\n",
    "# ssa_model = SSA()\n",
    "# ssa_model.load_model_from_file('../results/ssa/Earl_20190716_CST_lfads_ssa_model.pt')\n",
    "ssa_model = SSA(R=num_dims,n_epochs=3000,lr=0.01)\n",
    "td_cst = pyaldata.dim_reduce(td_cst,ssa_model,'lfads_rates','lfads_ssa')\n",
    "td_co['lfads_ssa'] = [ssa_model.transform(sig) for sig in td_co['lfads_rates']]\n",
    "td_cst['lfads_ssa'] = [ssa_model.transform(sig) for sig in td_cst['lfads_rates']]"
   ]
  },
  {
   "cell_type": "code",
   "execution_count": null,
   "metadata": {},
   "outputs": [],
   "source": [
    "def plot_trial(trial_to_plot,ax_list,signal_to_plot):\n",
    "    num_dims = ax_list.shape[0]-1\n",
    "\n",
    "    beh_ax = ax_list[-1]\n",
    "    beh_ax.plot(trial_to_plot['trialtime'][[0,-1]],[0,0],color='k')\n",
    "    beh_ax.plot(trial_to_plot['trialtime'],trial_to_plot['rel_hand_pos'][:,0],'r')\n",
    "    beh_ax.plot(trial_to_plot['trialtime'],trial_to_plot['rel_cursor_pos'][:,0],'b')\n",
    "    beh_ax.set_yticks([])\n",
    "    beh_ax.set_ylim([-50,50])\n",
    "    beh_ax.set_xlabel('Time')\n",
    "    beh_ax.plot([0,0],beh_ax.get_ylim(),color='k',linestyle='--')\n",
    "\n",
    "    for i in range(num_dims):\n",
    "        ax = ax_list[i]\n",
    "        # Plot SSA results\n",
    "        ax.plot(trial_to_plot['trialtime'][[0,-1]],[0,0],color='k')\n",
    "        ax.plot(trial_to_plot['trialtime'],trial_to_plot[signal_to_plot][:,i])\n",
    "        ax.set_yticks([])\n",
    "        ax.plot([0,0],ax.get_ylim(),color='k',linestyle='--')\n",
    "        ax.sharex(beh_ax)\n"
   ]
  },
  {
   "cell_type": "code",
   "execution_count": null,
   "metadata": {},
   "outputs": [],
   "source": [
    "from ipywidgets import interact\n",
    "# plot out SSA projections and hand/cursor movement\n",
    "td_co = src.data.add_trial_time(td_co,ref_event='idx_goCueTime')\n",
    "td_cst = src.data.add_trial_time(td_cst,ref_event='idx_goCueTime')\n",
    "num_dims = ssa_model.ssa_params['R']\n",
    "\n",
    "@interact(cst_trial_id = list(td_cst['trial_id']),co_trial_id = list(td_co['trial_id']))\n",
    "def plot_trial_ssa(cst_trial_id,co_trial_id):\n",
    "    cst_trial = td_cst.loc[td_cst['trial_id']==cst_trial_id,:].squeeze()\n",
    "    co_trial = td_co.loc[td_co['trial_id']==co_trial_id,:].squeeze()\n",
    "    fig,axs = plt.subplots(num_dims+1,2,figsize=(10,10))\n",
    "\n",
    "    plot_trial(cst_trial,axs[:,0],'lfads_ssa')\n",
    "    plot_trial(co_trial,axs[:,1],'lfads_ssa')\n",
    "    for i in range(num_dims+1):\n",
    "        axs[i,0].set_ylabel('{}'.format(i))\n",
    "        axs[i,1].sharey(axs[i,0])\n",
    "\n",
    "    axs[num_dims,0].set_ylabel('Beh')\n",
    "\n",
    "    axs[0,0].set_title(f\"CST (lam={cst_trial['lambda']})\")\n",
    "    axs[0,1].set_title(f\"CO (dir={co_trial['tgtDir']}, mag={co_trial['tgtMag']})\")\n",
    "\n",
    "    sns.despine(fig=fig,left=True,bottom=True,trim=True)\n"
   ]
  },
  {
   "cell_type": "code",
   "execution_count": null,
   "metadata": {},
   "outputs": [],
   "source": [
    "td_co_avg = pyaldata.trial_average(td_co,condition=None)\n",
    "td_cst_avg = pyaldata.trial_average(td_cst,condition=None)"
   ]
  },
  {
   "cell_type": "code",
   "execution_count": null,
   "metadata": {},
   "outputs": [],
   "source": [
    "fig_avg,axs_avg = plt.subplots(num_dims+1,2,figsize=(10,10))\n",
    "\n",
    "plot_trial(td_cst_avg,axs_avg[:,0],'lfads_ssa')\n",
    "plot_trial(td_co_avg,axs_avg[:,1],'lfads_ssa')\n",
    "for i in range(num_dims+1):\n",
    "    axs_avg[i,0].set_ylabel('{}'.format(i))\n",
    "    axs_avg[i,1].sharey(axs_avg[i,0])\n",
    "\n",
    "axs_avg[num_dims,0].set_ylabel('Beh')\n",
    "\n",
    "axs_avg[0,0].set_title(f\"CST average\")\n",
    "axs_avg[0,1].set_title(f\"CO average\")\n",
    "sns.despine(fig=fig_avg,left=True,bottom=True,trim=True)\n"
   ]
  }
 ],
 "metadata": {
  "interpreter": {
   "hash": "97029198e736bdfba6e2414e97cc8ca894d03f4f99397ce575cd6706bf41629d"
  },
  "kernelspec": {
   "display_name": "Python 3.7.13 ('autolfads-tf2')",
   "language": "python",
   "name": "python3"
  },
  "language_info": {
   "codemirror_mode": {
    "name": "ipython",
    "version": 3
   },
   "file_extension": ".py",
   "mimetype": "text/x-python",
   "name": "python",
   "nbconvert_exporter": "python",
   "pygments_lexer": "ipython3",
   "version": "3.7.13"
  },
  "orig_nbformat": 4
 },
 "nbformat": 4,
 "nbformat_minor": 2
}

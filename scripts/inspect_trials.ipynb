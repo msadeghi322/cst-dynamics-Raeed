{
 "cells": [
  {
   "cell_type": "code",
   "execution_count": 1,
   "metadata": {},
   "outputs": [],
   "source": [
    "import src\n",
    "import matplotlib.pyplot as plt\n",
    "import seaborn as sns\n",
    "from ipywidgets import interact\n",
    "import pyaldata\n",
    "\n",
    "sns.set_context('talk')\n",
    "\n",
    "%load_ext autoreload\n",
    "%autoreload 2"
   ]
  },
  {
   "cell_type": "code",
   "execution_count": 3,
   "metadata": {},
   "outputs": [
    {
     "name": "stdout",
     "output_type": "stream",
     "text": [
      "Removed 1 trials that monkey aborted\n",
      "Removed 0 neurons from MC_spikes.\n"
     ]
    }
   ],
   "source": [
    "trial_data = src.data.load_clean_data('../data/trial_data/Prez_20220718_RTTCST_TD.mat',keep_unsorted=True,verbose=True)\n",
    "td = trial_data\n",
    "td_binned = pyaldata.combine_time_bins(trial_data,100)"
   ]
  },
  {
   "cell_type": "code",
   "execution_count": 6,
   "metadata": {},
   "outputs": [
    {
     "data": {
      "application/vnd.jupyter.widget-view+json": {
       "model_id": "af3c16d2876541cd9b82168379916acb",
       "version_major": 2,
       "version_minor": 0
      },
      "text/plain": [
       "interactive(children=(Dropdown(description='trial_id', options=(1, 2, 3, 4, 5, 6, 7, 8, 9, 11, 12, 13, 14, 15,…"
      ]
     },
     "metadata": {},
     "output_type": "display_data"
    }
   ],
   "source": [
    "@interact(trial_id=td['trial_id'])\n",
    "def inspect_rasters(trial_id):\n",
    "    trial_binned = td_binned.loc[td_binned['trial_id']==trial_id,:].squeeze()\n",
    "    trial_unbinned = td.loc[td['trial_id']==trial_id,:].squeeze()\n",
    "    fig,ax=plt.subplots(2,1,figsize=(6,4),sharex=True)\n",
    "    src.plot.make_trial_raster(trial_binned,ax[0],sig='MC_spikes',events=['idx_goCueTime'],ref_event_idx=trial_binned['idx_goCueTime'])\n",
    "    src.plot.make_trial_raster(trial_unbinned,ax[1],sig='MC_spikes',events=['idx_goCueTime'],ref_event_idx=trial_unbinned['idx_goCueTime'])\n"
   ]
  },
  {
   "cell_type": "code",
   "execution_count": 8,
   "metadata": {},
   "outputs": [
    {
     "name": "stdout",
     "output_type": "stream",
     "text": [
      "381        5\n",
      "382        5\n",
      "383        5\n",
      "384        5\n",
      "385        5\n",
      "386        5\n",
      "757       11\n",
      "758       11\n",
      "759       11\n",
      "760       11\n",
      "761       11\n",
      "2607      36\n",
      "4855      65\n",
      "4856      65\n",
      "4857      65\n",
      "4858      65\n",
      "20889    264\n",
      "20890    264\n",
      "22217    283\n",
      "22218    283\n",
      "22219    283\n",
      "22220    283\n",
      "22221    283\n",
      "22222    283\n",
      "22223    283\n",
      "22224    283\n",
      "22958    294\n",
      "22959    294\n",
      "22960    294\n",
      "22961    294\n",
      "22962    294\n",
      "22963    294\n",
      "22964    294\n",
      "22965    294\n",
      "22966    294\n",
      "22967    294\n",
      "23181    297\n",
      "23182    297\n",
      "23183    297\n",
      "23184    297\n",
      "23185    297\n",
      "23186    297\n",
      "23187    297\n",
      "23188    297\n",
      "23189    297\n",
      "23190    297\n",
      "23191    297\n",
      "23192    297\n",
      "23193    297\n",
      "23194    297\n",
      "27551    351\n",
      "27552    351\n",
      "27553    351\n",
      "27554    351\n",
      "27555    351\n",
      "27556    351\n",
      "27557    351\n",
      "27558    351\n",
      "Name: trial_id, dtype: int32\n"
     ]
    },
    {
     "data": {
      "text/plain": [
       "array([ 90., 110., 130.,  90., 120.,  40.,  70.,  70.,  50.,  70.,  40.,\n",
       "        40.,  40., 120.,  90.,  30.,  40.,  10.,  40.,  20.,  80.,  50.,\n",
       "        50.,  90.,  70.,  60.,  50.,  80., 100., 100., 100.,  90.,  20.,\n",
       "        70.,  50., 180.,  30., 100., 120.,  50.,  50.,  20., 180.,  70.,\n",
       "       110., 140., 100.,  90.,  90.,  80.,  50.,  90.,  70.,  40.,  60.,\n",
       "        70.,  60.,  90.,  60.,  80.,  80.,  50.,  50.,  60.,  70., 110.,\n",
       "        40.,  20.,  40.,  60.,  60.,  40.,  20.,  30.,  40.,  10.,  60.,\n",
       "        20.,  40.,  30.,  30.,  40.,  40.,  70.,  50.,  10.,  20.,  10.,\n",
       "        30.,  50.])"
      ]
     },
     "execution_count": 8,
     "metadata": {},
     "output_type": "execute_result"
    }
   ],
   "source": [
    "from sklearn.decomposition import PCA\n",
    "import numpy as np\n",
    "\n",
    "model = PCA(n_components=1)\n",
    "td_temp = pyaldata.dim_reduce(td_binned,model,signal='MC_spikes',out_fieldname='M1_pca')\n",
    "\n",
    "td_temp = td_temp.explode(['M1_pca','MC_spikes']).explode('M1_pca').reset_index(drop=True)\n",
    "print(td_temp.loc[td_temp['M1_pca']>40,'trial_id'])\n",
    "td_temp.loc[td_temp['M1_pca']>40,'MC_spikes'].values[0]/td_temp.iloc[0]['bin_size']"
   ]
  },
  {
   "cell_type": "code",
   "execution_count": 13,
   "metadata": {},
   "outputs": [
    {
     "name": "stdout",
     "output_type": "stream",
     "text": [
      "6 trials with high firing rates removed. Dropping trials with IDs:\n",
      "[297   5 283 351  65 294]\n"
     ]
    }
   ],
   "source": [
    "td_dropped = src.data.remove_bad_trials(td_binned,rate_thresh=350,verbose=True)"
   ]
  }
 ],
 "metadata": {
  "kernelspec": {
   "display_name": "Python 3.7.13 ('autolfads-tf2')",
   "language": "python",
   "name": "python3"
  },
  "language_info": {
   "codemirror_mode": {
    "name": "ipython",
    "version": 3
   },
   "file_extension": ".py",
   "mimetype": "text/x-python",
   "name": "python",
   "nbconvert_exporter": "python",
   "pygments_lexer": "ipython3",
   "version": "3.7.13"
  },
  "orig_nbformat": 4,
  "vscode": {
   "interpreter": {
    "hash": "97029198e736bdfba6e2414e97cc8ca894d03f4f99397ce575cd6706bf41629d"
   }
  }
 },
 "nbformat": 4,
 "nbformat_minor": 2
}

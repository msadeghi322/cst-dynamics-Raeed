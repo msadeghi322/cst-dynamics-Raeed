{
 "cells": [
  {
   "cell_type": "code",
   "execution_count": 2,
   "metadata": {},
   "outputs": [],
   "source": [
    "import src\n",
    "import matplotlib.pyplot as plt\n",
    "import seaborn as sns\n",
    "from ipywidgets import interact\n",
    "import pyaldata\n",
    "import yaml\n",
    "\n",
    "from sklearn.decomposition import PCA\n",
    "\n",
    "sns.set_context('talk')\n",
    "\n",
    "with open('../params.yaml','r') as f:\n",
    "    params = yaml.safe_load(f)\n",
    "    inspection_params = params['inspection']\n",
    "\n",
    "%load_ext autoreload\n",
    "%autoreload 2"
   ]
  },
  {
   "cell_type": "code",
   "execution_count": 6,
   "metadata": {},
   "outputs": [
    {
     "name": "stdout",
     "output_type": "stream",
     "text": [
      "Removed 76 trials that monkey aborted\n",
      "2 trials with high firing rates removed. Dropping trials with IDs:\n",
      "[295 337]\n",
      "Removed 0 neurons from M1_spikes.\n",
      "Removed 0 neurons from MC_spikes.\n",
      "Removed 0 neurons from PMd_spikes.\n"
     ]
    }
   ],
   "source": [
    "td = (\n",
    "    src.data.load_clean_data('../data/trial_data/Prez_20220720_RTTCSTCO_TD.mat',keep_unsorted=True,verbose=True)\n",
    "    .pipe(pyaldata.add_firing_rates,method='smooth', std=0.05, backend='convolve')\n",
    "    .pipe(src.data.rebin_data,new_bin_size=inspection_params['bin_size'])\n",
    "    .pipe(pyaldata.soft_normalize_signal,signals=['M1_rates','PMd_rates','MC_rates'])\n",
    "    .pipe(pyaldata.dim_reduce,PCA(n_components=2),'M1_rates','M1_pca')\n",
    "    .pipe(pyaldata.dim_reduce,PCA(n_components=2),'PMd_rates','PMd_pca')\n",
    "    .pipe(pyaldata.dim_reduce,PCA(n_components=2),'MC_rates','MC_pca')\n",
    ")"
   ]
  },
  {
   "cell_type": "code",
   "execution_count": 7,
   "metadata": {},
   "outputs": [
    {
     "data": {
      "application/vnd.jupyter.widget-view+json": {
       "model_id": "ad57493af3c4453b9950707c61994575",
       "version_major": 2,
       "version_minor": 0
      },
      "text/plain": [
       "interactive(children=(Dropdown(description='trial_id', options=(2, 3, 4, 5, 6, 7, 9, 10, 11, 12, 13, 14, 15, 1…"
      ]
     },
     "metadata": {},
     "output_type": "display_data"
    },
    {
     "ename": "",
     "evalue": "",
     "output_type": "error",
     "traceback": [
      "\u001b[1;31mThe Kernel crashed while executing code in the the current cell or a previous cell. Please review the code in the cell(s) to identify a possible cause of the failure. Click <a href='https://aka.ms/vscodeJupyterKernelCrash'>here</a> for more info. View Jupyter <a href='command:jupyter.viewOutput'>log</a> for further details."
     ]
    }
   ],
   "source": [
    "@interact(trial_id=td['trial_id'])\n",
    "def inspect_rasters(trial_id):\n",
    "    trial = td.loc[td['trial_id']==trial_id,:].squeeze()\n",
    "    _,ax=plt.subplots(1,1,figsize=(10,4),sharex=True)\n",
    "    src.plot.make_trial_raster(trial,ax,sig='MC_spikes',events=['idx_goCueTime'],ref_event_idx=trial['idx_goCueTime'])\n",
    "    ax.set_title(trial['task'])\n"
   ]
  },
  {
   "cell_type": "code",
   "execution_count": null,
   "metadata": {},
   "outputs": [],
   "source": []
  }
 ],
 "metadata": {
  "kernelspec": {
   "display_name": "Python 3.7.13 ('autolfads-tf2')",
   "language": "python",
   "name": "python3"
  },
  "language_info": {
   "codemirror_mode": {
    "name": "ipython",
    "version": 3
   },
   "file_extension": ".py",
   "mimetype": "text/x-python",
   "name": "python",
   "nbconvert_exporter": "python",
   "pygments_lexer": "ipython3",
   "version": "3.7.13"
  },
  "orig_nbformat": 4,
  "vscode": {
   "interpreter": {
    "hash": "97029198e736bdfba6e2414e97cc8ca894d03f4f99397ce575cd6706bf41629d"
   }
  }
 },
 "nbformat": 4,
 "nbformat_minor": 2
}
